{
 "cells": [
  {
   "cell_type": "markdown",
   "metadata": {},
   "source": [
    "# 想做個爬CNBC網站的爬蟲\n",
    "https://www.cnbc.com/finance/"
   ]
  },
  {
   "cell_type": "code",
   "execution_count": 29,
   "metadata": {},
   "outputs": [],
   "source": [
    "import sys\n",
    "import pickle\n",
    "import requests\n",
    "from datetime import datetime\n",
    "from bs4 import BeautifulSoup\n",
    "import re"
   ]
  },
  {
   "cell_type": "code",
   "execution_count": 30,
   "metadata": {
    "scrolled": false
   },
   "outputs": [],
   "source": [
    "#測試處\n",
    "page_url = \"https://www.cnbc.com/finance/\"\n",
    "r = requests.get(page_url)\n",
    "r.encoding = \"UTF-8\"\n",
    "soup = BeautifulSoup(r.text, 'html.parser')\n",
    "article_node = soup.find(itemprop='articleBody')\n",
    "soup.find('div', 'stories-lineup bigHeader').headline\n",
    "\n"
   ]
  },
  {
   "cell_type": "code",
   "execution_count": 35,
   "metadata": {
    "scrolled": true
   },
   "outputs": [
    {
     "data": {
      "text/plain": [
       "<div class=\"headline\">\n",
       "<a class=\" \" data-nodeid=\"105786243\" href=\"/2019/03/11/brexit-is-a-disaster-thats-ruined-uk-investment-ex-barclays-chair.html\">\t\t    \t                 \n",
       "            Brexit an 'unmitigated disaster' that's ruined UK investment: Barclays ex-chair\n",
       "\t\t\t                </a> </div>"
      ]
     },
     "execution_count": 35,
     "metadata": {},
     "output_type": "execute_result"
    }
   ],
   "source": [
    "#就是這一行要把href:新聞標題的內容截取下來\n",
    "soup.find(\"div\", class_=\"headline\")\n"
   ]
  },
  {
   "cell_type": "code",
   "execution_count": 3,
   "metadata": {},
   "outputs": [],
   "source": [
    "#複製別人的程式碼\n",
    "\n",
    "def get_date(news_block_node):\n",
    "    date_string = news_block_node.find(class_=\"news_date\").string.split('|')[0][2:-1]\n",
    "    return(datetime.strptime(date_string, '%Y.%m.%d').strftime('%Y-%m-%d'))\n",
    "    \n",
    "def get_title(news_block_node):\n",
    "    return news_block_node.find(class_=\"news_title\").a.string\n",
    "\n",
    "def get_link(news_block_node):\n",
    "    return news_block_node.find(class_=\"news_title\").a.get('href')\n",
    "\n",
    "def get_content(link):\n",
    "    r = requests.get(link)\n",
    "    r.encoding = \"UTF-8\"\n",
    "    soup = BeautifulSoup(r.text, 'html.parser')\n",
    "    article_node = soup.find(itemprop='articleBody')\n",
    "    article = article_node.get_text()\n",
    "    return article.replace(\"\\n\", \"\")"
   ]
  },
  {
   "cell_type": "code",
   "execution_count": null,
   "metadata": {},
   "outputs": [],
   "source": [
    "def get_news_info(each_news):\n",
    "    date  = get_date(each_news)\n",
    "    title = get_title(each_news)\n",
    "    link  = get_link(each_news)\n",
    "    content = get_content(link)\n",
    "    \n",
    "    info = {'date' : date,\n",
    "            'title': title,\n",
    "            'link' : link,\n",
    "            'content': content}\n",
    "    return(info)\n",
    "\n",
    "#主程式的架構處\n",
    "def get_page_news(page_url):\n",
    "    r = requests.get(page_url)\n",
    "    r.encoding = \"UTF-8\"\n",
    "\n",
    "    soup = BeautifulSoup(r.text, 'html.parser')\n",
    "    news_blocks = soup.find_all(class_=\"news-list-item clearfix \")\n",
    "    \n",
    "    news = []\n",
    "    for each_news in news_blocks:\n",
    "        try:\n",
    "            news_info = get_news_info(each_news)\n",
    "#             print(get_title(each_news))\n",
    "        except:\n",
    "#             print('-------{}-------'.format())\n",
    "            pass\n",
    "\n",
    "        news.append(news_info)\n",
    "    return(news)\n",
    "\n",
    "\n",
    "def get_new_talk_news(from_page=1, end_page=270, url=\"https://www.cnbc.com/finance/\"):\n",
    "    print(\"page_number from {} to {}\".format(from_page, end_page -1))\n",
    "    data = []\n",
    "    for page_number in range(from_page, end_page):\n",
    "        print(\"page_number: {}\".format(page_number))\n",
    "        data = data + get_page_news( url+str(page_number) )\n",
    "    \n",
    "    print('done')\n",
    "    return(data)"
   ]
  }
 ],
 "metadata": {
  "kernelspec": {
   "display_name": "Python 3",
   "language": "python",
   "name": "python3"
  },
  "language_info": {
   "codemirror_mode": {
    "name": "ipython",
    "version": 3
   },
   "file_extension": ".py",
   "mimetype": "text/x-python",
   "name": "python",
   "nbconvert_exporter": "python",
   "pygments_lexer": "ipython3",
   "version": "3.6.5"
  }
 },
 "nbformat": 4,
 "nbformat_minor": 2
}
